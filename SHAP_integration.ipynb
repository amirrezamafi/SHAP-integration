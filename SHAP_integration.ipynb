{
 "cells": [
  {
   "cell_type": "code",
   "execution_count": null,
   "metadata": {},
   "outputs": [],
   "source": [
    "explainer = shap.TreeExplainer(model=rf)\n",
    "\n",
    "# calculate the SHAP values\n",
    "#shap_values = explainer.shap_values(train_x_copy[features])[1]\n",
    "\n",
    "#toward the class_1\n",
    "#shap_values_train = shap_values_train[1]                             \n",
    "\n",
    "shap_values_df = pd.DataFrame(explainer.shap_values(train_x_copy[features])[1], columns=((train_x[features].columns)))\n",
    "shap_values_df"
   ]
  },
  {
   "cell_type": "code",
   "execution_count": null,
   "metadata": {},
   "outputs": [],
   "source": [
    "explainer = shap.TreeExplainer(model=rf)\n",
    "\n",
    "# calculate the SHAP values\n",
    "shap_values_train = explainer.shap_values(train_x_copy[features])\n",
    "\n",
    "#toward the class_1\n",
    "shap_values_train = shap_values_train[1]                             \n",
    "\n",
    "shap_values_df_train = pd.DataFrame(shap_values_train, columns=((train_x[features].columns)))\n",
    "shap_values_df_train"
   ]
  },
  {
   "cell_type": "code",
   "execution_count": 12,
   "metadata": {},
   "outputs": [],
   "source": [
    "# It is used to have the Shap_values of each feature for each instance, toward to class_1 or class_0 in \n",
    "# a binary tree_based classification.\n",
    "\n",
    "import pandas as pd\n",
    "import numpy as np\n",
    "import shap\n",
    "\n",
    "\n",
    "def calcule_shap (model , data, to_class):\n",
    "    '''\n",
    "        For each row of the data, it evaluates the effect of each feature on the prediction of this row to \n",
    "             be classified in class 0 or 1.\n",
    "             \n",
    "        Parameters\n",
    "        ----------\n",
    "        model: the machine learning model which has been used (ex: RandomForest)\n",
    "            \n",
    "        data: the dataset which its Shap values is required \n",
    "              in shape of (number of instance , number of features)\n",
    "        \n",
    "        to_class: {int} can be '0' or '1' in a binary classification\n",
    "                Since the output of 'shap_values' has two sets of shap_value (in reverse sign, toward\n",
    "                class_0 and class_1), It defines that the direction of investigation is toward which class.\n",
    "                \n",
    "        Returns\n",
    "        -------\n",
    "            a Pandas DataFrame in shape of (number of instance in data , number of features) \n",
    "            \n",
    "        '''\n",
    "    explainer = shap.TreeExplainer(model)\n",
    "    shap_values_df = pd.DataFrame(explainer.shap_values(train_x_copy[features])[to_class],\\\n",
    "                                  columns=((train_x[features].columns)))\n",
    "    return shap_values_df\n",
    "        \n",
    "    "
   ]
  },
  {
   "cell_type": "code",
   "execution_count": 13,
   "metadata": {},
   "outputs": [
    {
     "ename": "NameError",
     "evalue": "name 'rf' is not defined",
     "output_type": "error",
     "traceback": [
      "\u001b[0;31m---------------------------------------------------------------------------\u001b[0m",
      "\u001b[0;31mNameError\u001b[0m                                 Traceback (most recent call last)",
      "\u001b[0;32m<ipython-input-13-d781c07143c5>\u001b[0m in \u001b[0;36m<module>\u001b[0;34m\u001b[0m\n\u001b[0;32m----> 1\u001b[0;31m \u001b[0mcalcule_shap\u001b[0m \u001b[0;34m(\u001b[0m\u001b[0mrf\u001b[0m\u001b[0;34m,\u001b[0m\u001b[0mtrain_x\u001b[0m\u001b[0;34m,\u001b[0m\u001b[0;36m1\u001b[0m\u001b[0;34m)\u001b[0m\u001b[0;34m\u001b[0m\u001b[0;34m\u001b[0m\u001b[0m\n\u001b[0m",
      "\u001b[0;31mNameError\u001b[0m: name 'rf' is not defined"
     ]
    }
   ],
   "source": [
    "calcule_shap (rf,train_x,1)"
   ]
  },
  {
   "cell_type": "code",
   "execution_count": null,
   "metadata": {},
   "outputs": [],
   "source": []
  }
 ],
 "metadata": {
  "kernelspec": {
   "display_name": "Python 3",
   "language": "python",
   "name": "python3"
  },
  "language_info": {
   "codemirror_mode": {
    "name": "ipython",
    "version": 3
   },
   "file_extension": ".py",
   "mimetype": "text/x-python",
   "name": "python",
   "nbconvert_exporter": "python",
   "pygments_lexer": "ipython3",
   "version": "3.7.4"
  }
 },
 "nbformat": 4,
 "nbformat_minor": 2
}
